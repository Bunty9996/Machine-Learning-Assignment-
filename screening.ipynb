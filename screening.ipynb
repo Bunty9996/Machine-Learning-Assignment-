{
 "cells": [
  {
   "cell_type": "code",
   "execution_count": 7,
   "id": "b11e1817",
   "metadata": {},
   "outputs": [],
   "source": [
    "file=open(\"example.txt\",\"rt\")"
   ]
  },
  {
   "cell_type": "code",
   "execution_count": 8,
   "id": "8cb8e7f3",
   "metadata": {},
   "outputs": [],
   "source": [
    "data =file.read()"
   ]
  },
  {
   "cell_type": "code",
   "execution_count": 9,
   "id": "93cb7c7b",
   "metadata": {},
   "outputs": [],
   "source": [
    "data=data.replace(\"placement\",\"screening\")\n",
    "file.close()\n",
    "file=open(\"'example.txt\",\"wt\")\n",
    "file.write(data)\n",
    "file.close()"
   ]
  },
  {
   "cell_type": "markdown",
   "id": "36772c36",
   "metadata": {},
   "source": [
    "**abstarct class**"
   ]
  },
  {
   "cell_type": "code",
   "execution_count": 4,
   "id": "e5177e8b",
   "metadata": {},
   "outputs": [
    {
     "name": "stdout",
     "output_type": "stream",
     "text": [
      "I can walk and run\n",
      "I can crawl\n",
      "I can bark\n",
      "I can roar\n"
     ]
    }
   ],
   "source": [
    "from abc import ABC, abstractmethod\n",
    "class Animal(ABC):\n",
    " \n",
    "    def move(self):\n",
    "        pass\n",
    " \n",
    "class Human(Animal):\n",
    " \n",
    "    def move(self):\n",
    "        print(\"I can walk and run\")\n",
    " \n",
    "class Snake(Animal):\n",
    " \n",
    "    def move(self):\n",
    "        print(\"I can crawl\")\n",
    " \n",
    "class Dog(Animal):\n",
    " \n",
    "    def move(self):\n",
    "        print(\"I can bark\")\n",
    " \n",
    "class Lion(Animal):\n",
    " \n",
    "    def move(self):\n",
    "        print(\"I can roar\")\n",
    "         \n",
    "# Driver code\n",
    "R = Human()\n",
    "R.move()\n",
    " \n",
    "K = Snake()\n",
    "K.move()\n",
    " \n",
    "R = Dog()\n",
    "R.move()\n",
    " \n",
    "K = Lion()\n",
    "K.move()"
   ]
  },
  {
   "cell_type": "markdown",
   "id": "b5542601",
   "metadata": {},
   "source": [
    "**Multiple inheritance** "
   ]
  },
  {
   "cell_type": "code",
   "execution_count": null,
   "id": "585bd9b4",
   "metadata": {},
   "outputs": [],
   "source": [
    "class Class1:\n",
    "    def m(self):\n",
    "        print(\"In Class1\")\n",
    "       \n",
    "class Class2(Class1):\n",
    "    def m(self):\n",
    "        print(\"In Class2\")\n",
    " \n",
    "class Class3(Class1):\n",
    "    def m(self):\n",
    "        print(\"In Class3\") \n",
    "        \n",
    "class Class4(Class2, Class3):\n",
    "    pass  \n",
    "     \n",
    "obj = Class4()\n",
    "obj.m()"
   ]
  },
  {
   "cell_type": "code",
   "execution_count": null,
   "id": "ff8f715b",
   "metadata": {},
   "outputs": [],
   "source": [
    "# Python program to illustrate functions\n",
    "# can be treated as objects\n",
    "def shout(text):\n",
    "    return text.upper()\n",
    " \n",
    "print(shout('Hello'))\n",
    " \n",
    "yell = shout\n",
    " \n",
    "print(yell('Hello'))"
   ]
  }
 ],
 "metadata": {
  "kernelspec": {
   "display_name": "Python 3 (ipykernel)",
   "language": "python",
   "name": "python3"
  },
  "language_info": {
   "codemirror_mode": {
    "name": "ipython",
    "version": 3
   },
   "file_extension": ".py",
   "mimetype": "text/x-python",
   "name": "python",
   "nbconvert_exporter": "python",
   "pygments_lexer": "ipython3",
   "version": "3.9.7"
  }
 },
 "nbformat": 4,
 "nbformat_minor": 5
}
